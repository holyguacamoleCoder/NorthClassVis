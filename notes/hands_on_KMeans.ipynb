{
 "cells": [
  {
   "cell_type": "markdown",
   "metadata": {},
   "source": [
    "# 手动实现 K-Means 聚类算法\n",
    "本 Notebook 用于学习K-Means，将一步步拆解 K-Means 算法的实现过程，帮助理解其内部机制。\n",
    "\n",
    "### K-Means 是什么？\n",
    "- K-Means（K-Means Clustering）是一种常用的无监督聚类算法。\n",
    "- 它通过将数据集划分为K个集群，使得每个集群的样本相似。\n",
    "- 目标：将数据集划分成K个相似的子集，每个子集内样本相似。\n",
    "\n",
    "### 核心步骤回顾\n",
    "1. 初始化聚类中心（随机数取）\n",
    "2. 迭代：\n",
    "    - 计算每个样本到聚类中心的距离\n",
    "    - 将样本分配到距离最近的聚类中心\n",
    "    - 更新聚类中心\n",
    "3. 停止：当聚类中心不再改变/到最大迭代次数，停止迭代\n"
   ]
  },
  {
   "cell_type": "code",
   "execution_count": 1,
   "metadata": {},
   "outputs": [],
   "source": [
    "import numpy as np\n",
    "from sklearn.cluster import KMeans  # 用于最后对比"
   ]
  },
  {
   "cell_type": "markdown",
   "metadata": {},
   "source": [
    "##  Step 1: 生成测试数据"
   ]
  },
  {
   "cell_type": "code",
   "execution_count": 2,
   "metadata": {},
   "outputs": [
    {
     "name": "stdout",
     "output_type": "stream",
     "text": [
      "原始数据 X shape: (100, 2)\n",
      "前5行样本:\n",
      " [[0.37454012 0.95071431]\n",
      " [0.73199394 0.59865848]\n",
      " [0.15601864 0.15599452]\n",
      " [0.05808361 0.86617615]\n",
      " [0.60111501 0.70807258]]\n"
     ]
    }
   ],
   "source": [
    "# 设置随机种子以确保结果可复现\n",
    "np.random.seed(42)\n",
    "\n",
    "# 生成 100 个二维点作为测试数据\n",
    "X = np.random.rand(100, 2)\n",
    "\n",
    "print(\"原始数据 X shape:\", X.shape)\n",
    "print(\"前5行样本:\\n\", X[:5])"
   ]
  },
  {
   "cell_type": "markdown",
   "metadata": {},
   "source": [
    "##  Step 2: 初始化聚类中心"
   ]
  },
  {
   "cell_type": "code",
   "execution_count": 3,
   "metadata": {},
   "outputs": [
    {
     "name": "stdout",
     "output_type": "stream",
     "text": [
      "初始中心点 shape: (3, 2)\n",
      "初始中心点坐标:\n",
      " [[0.32078006 0.18651851]\n",
      " [0.41038292 0.75555114]\n",
      " [0.96244729 0.2517823 ]]\n"
     ]
    }
   ],
   "source": [
    "n_clusters = 3\n",
    "random_state = 42\n",
    "\n",
    "# 设置随机种子\n",
    "np.random.seed(random_state)\n",
    "\n",
    "# 随机选择 n_clusters 个索引\n",
    "indices = np.random.permutation(X.shape[0])[:n_clusters]\n",
    "\n",
    "# 取出初始中心点\n",
    "initial_centers = X[indices]\n",
    "\n",
    "print(\"初始中心点 shape:\", initial_centers.shape)\n",
    "print(\"初始中心点坐标:\\n\", initial_centers)"
   ]
  },
  {
   "cell_type": "markdown",
   "metadata": {},
   "source": [
    "##  Step 3: 计算距离矩阵"
   ]
  },
  {
   "cell_type": "code",
   "execution_count": 5,
   "metadata": {},
   "outputs": [
    {
     "name": "stdout",
     "output_type": "stream",
     "text": [
      "距离矩阵 shape: (100, 3)\n",
      "前10行示例:\n",
      " [[0.76608443 0.19842724 0.91331309]\n",
      " [0.58219946 0.35783928 0.41645148]\n",
      " [0.16756504 0.65128283 0.81209758]\n",
      " [0.72865899 0.36925966 1.09332222]\n",
      " [0.5921202  0.19655265 0.58203251]\n",
      " [0.83893943 0.44485107 1.18440395]\n",
      " [0.51231367 0.68790531 0.13585645]\n",
      " [0.13898999 0.61610917 0.78361135]\n",
      " [0.33864198 0.25403157 0.71256492]\n",
      " [0.1527153  0.46482238 0.53196684]]\n"
     ]
    }
   ],
   "source": [
    "def compute_distances(X, centers):\n",
    "    n_samples, n_clusters = X.shape[0], centers.shape[0]\n",
    "    distances = np.zeros((n_samples, n_clusters))\n",
    "    for i in range(n_clusters):\n",
    "        distances[:, i] = np.linalg.norm(X - centers[i], axis=1)\n",
    "    return distances\n",
    "\n",
    "distances = compute_distances(X, initial_centers)\n",
    "\n",
    "print(\"距离矩阵 shape:\", distances.shape)\n",
    "print(\"前10行示例:\\n\", distances[:10])"
   ]
  },
  {
   "cell_type": "markdown",
   "metadata": {},
   "source": [
    "##  Step 4: 分配簇标签"
   ]
  },
  {
   "cell_type": "code",
   "execution_count": 6,
   "metadata": {},
   "outputs": [
    {
     "name": "stdout",
     "output_type": "stream",
     "text": [
      "簇标签 shape: (100,)\n",
      "前10个标签:\n",
      " [1 1 0 1 1 1 2 0 1 0]\n"
     ]
    }
   ],
   "source": [
    "def assign_clusters(distances):\n",
    "    return np.argmin(distances, axis=1)\n",
    "\n",
    "labels = assign_clusters(distances)\n",
    "\n",
    "print(\"簇标签 shape:\", labels.shape)\n",
    "print(\"前10个标签:\\n\", labels[:10])\n",
    "# 可以看到argmin返回的是最小值索引"
   ]
  },
  {
   "cell_type": "markdown",
   "metadata": {},
   "source": [
    "##  Step 5: 更新聚类中心"
   ]
  },
  {
   "cell_type": "code",
   "execution_count": 7,
   "metadata": {},
   "outputs": [
    {
     "name": "stdout",
     "output_type": "stream",
     "text": [
      "更新后的中心点 shape: (3, 2)\n",
      "更新后的中心点:\n",
      " [[0.31979929 0.2344994 ]\n",
      " [0.41379196 0.75505474]\n",
      " [0.8492242  0.38161194]]\n"
     ]
    }
   ],
   "source": [
    "def update_centers(X, labels, n_clusters):\n",
    "    _, n_features = X.shape\n",
    "    new_centers = np.zeros((n_clusters, n_features))\n",
    "    for i in range(n_clusters):\n",
    "        cluster_points = X[labels == i]\n",
    "        if len(cluster_points) > 0:\n",
    "            new_centers[i] = np.mean(cluster_points, axis=0)\n",
    "    return new_centers\n",
    "\n",
    "new_centers = update_centers(X, labels, n_clusters)\n",
    "\n",
    "print(\"更新后的中心点 shape:\", new_centers.shape)\n",
    "print(\"更新后的中心点:\\n\", new_centers)"
   ]
  },
  {
   "cell_type": "markdown",
   "metadata": {},
   "source": [
    "##  Step 6: 迭代直到收敛"
   ]
  },
  {
   "cell_type": "code",
   "execution_count": 8,
   "metadata": {},
   "outputs": [
    {
     "name": "stdout",
     "output_type": "stream",
     "text": [
      "迭代 7 次后收敛\n",
      "最终中心点:\n",
      " [[0.36376248 0.20008043]\n",
      " [0.19671223 0.72161646]\n",
      " [0.81167067 0.56668218]]\n"
     ]
    }
   ],
   "source": [
    "max_iter = 300\n",
    "centers = initial_centers.copy()\n",
    "\n",
    "for iteration in range(max_iter):\n",
    "    distances = compute_distances(X, centers)\n",
    "    labels = assign_clusters(distances)\n",
    "    new_centers = update_centers(X, labels, n_clusters)\n",
    "\n",
    "    # 判断是否收敛\n",
    "    if np.allclose(centers, new_centers):\n",
    "        print(f\"迭代 {iteration+1} 次后收敛\")\n",
    "        break\n",
    "\n",
    "    centers = new_centers.copy()\n",
    "else:\n",
    "    print(f\"达到最大迭代次数 {max_iter}，未完全收敛\")\n",
    "\n",
    "final_centers = centers\n",
    "final_labels = assign_clusters(compute_distances(X, final_centers))\n",
    "\n",
    "print(\"最终中心点:\\n\", final_centers)"
   ]
  },
  {
   "cell_type": "markdown",
   "metadata": {},
   "source": [
    "## Step 7: 对比 sklearn 实现"
   ]
  },
  {
   "cell_type": "code",
   "execution_count": 9,
   "metadata": {},
   "outputs": [
    {
     "name": "stdout",
     "output_type": "stream",
     "text": [
      "sklearn 中心点:\n",
      " [[0.18520943 0.72228065]\n",
      " [0.8039633  0.57026999]\n",
      " [0.36376248 0.20008043]]\n"
     ]
    }
   ],
   "source": [
    "sk_kmeans = KMeans(n_clusters=3, random_state=42).fit(X)\n",
    "print(\"sklearn 中心点:\\n\", sk_kmeans.cluster_centers_)"
   ]
  }
 ],
 "metadata": {
  "kernelspec": {
   "display_name": "base",
   "language": "python",
   "name": "python3"
  },
  "language_info": {
   "codemirror_mode": {
    "name": "ipython",
    "version": 3
   },
   "file_extension": ".py",
   "mimetype": "text/x-python",
   "name": "python",
   "nbconvert_exporter": "python",
   "pygments_lexer": "ipython3",
   "version": "3.7.0"
  }
 },
 "nbformat": 4,
 "nbformat_minor": 4
}
